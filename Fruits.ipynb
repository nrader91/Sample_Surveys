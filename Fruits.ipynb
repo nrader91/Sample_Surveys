{
 "cells": [
  {
   "cell_type": "code",
   "execution_count": 1,
   "id": "d58cd755",
   "metadata": {},
   "outputs": [
    {
     "name": "stdout",
     "output_type": "stream",
     "text": [
      "hello world\n"
     ]
    }
   ],
   "source": [
    "print(\"hello world\")"
   ]
  },
  {
   "cell_type": "code",
   "execution_count": 3,
   "id": "a6c382d0",
   "metadata": {},
   "outputs": [],
   "source": [
    "question_prompts = [ \n",
    "    \"what color are apples?\\n(a) Red/Green\\n(b) Purple\\n(c) Orange\\n\\n\",\n",
    "    \"what color are bananas?\\n(a) Teal\\n(b) Magenta\\n(c) Yellow\\n\\n\",\n",
    "    \"what color are strawberries?\\n(a) Yellow\\n(b) Red\\n(c) Blue\\n\\n\"\n",
    "]"
   ]
  },
  {
   "cell_type": "code",
   "execution_count": 4,
   "id": "45bac777",
   "metadata": {},
   "outputs": [
    {
     "name": "stdout",
     "output_type": "stream",
     "text": [
      "['what color are apples?\\n(a) Red/Green\\n(b) Purple\\n(c) Orange\\n\\n', 'what color are bananas?\\n(a) Teal\\n(b) Magenta\\n(c) Yellow\\n\\n', 'what color are strawberries?\\n(a) Yellow\\n(b) Red\\n(c) Blue\\n\\n']\n"
     ]
    }
   ],
   "source": [
    "print(question_prompts)"
   ]
  },
  {
   "cell_type": "code",
   "execution_count": null,
   "id": "e3b8c7a8",
   "metadata": {},
   "outputs": [],
   "source": [
    "questions = [\n",
    "    Question(question_prompts[0], \"a\")\n",
    "]"
   ]
  }
 ],
 "metadata": {
  "kernelspec": {
   "display_name": "Python 3",
   "language": "python",
   "name": "python3"
  },
  "language_info": {
   "codemirror_mode": {
    "name": "ipython",
    "version": 3
   },
   "file_extension": ".py",
   "mimetype": "text/x-python",
   "name": "python",
   "nbconvert_exporter": "python",
   "pygments_lexer": "ipython3",
   "version": "3.8.5"
  }
 },
 "nbformat": 4,
 "nbformat_minor": 5
}
