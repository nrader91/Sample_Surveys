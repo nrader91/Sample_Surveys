{
 "cells": [
  {
   "cell_type": "code",
   "execution_count": 6,
   "id": "08f807ca",
   "metadata": {},
   "outputs": [
    {
     "name": "stdout",
     "output_type": "stream",
     "text": [
      "hello world\n"
     ]
    }
   ],
   "source": [
    "print(\"hello world\")"
   ]
  },
  {
   "cell_type": "code",
   "execution_count": 7,
   "id": "b4939d4b",
   "metadata": {},
   "outputs": [],
   "source": [
    "question_prompts = [ \n",
    "    \"what color are apples?\\n(a) Red/Green\\n(b) Purple\\n(c) Orange\\n\\n\",\n",
    "    \"what color are bananas?\\n(a) Teal\\n(b) Magenta\\n(c) Yellow\\n\\n\",\n",
    "    \"what color are strawberries?\\n(a) Yellow\\n(b) Red\\n(c) Blue\\n\\n\"\n",
    "]"
   ]
  },
  {
   "cell_type": "code",
   "execution_count": 8,
   "id": "f0596d36",
   "metadata": {},
   "outputs": [
    {
     "name": "stdout",
     "output_type": "stream",
     "text": [
      "['what color are apples?\\n(a) Red/Green\\n(b) Purple\\n(c) Orange\\n\\n', 'what color are bananas?\\n(a) Teal\\n(b) Magenta\\n(c) Yellow\\n\\n', 'what color are strawberries?\\n(a) Yellow\\n(b) Red\\n(c) Blue\\n\\n']\n"
     ]
    }
   ],
   "source": [
    "print(question_prompts)"
   ]
  },
  {
   "cell_type": "code",
   "execution_count": 9,
   "id": "8f1d4a6a",
   "metadata": {},
   "outputs": [
    {
     "ename": "NameError",
     "evalue": "name 'Question' is not defined",
     "output_type": "error",
     "traceback": [
      "\u001b[1;31m---------------------------------------------------------------------------\u001b[0m",
      "\u001b[1;31mNameError\u001b[0m                                 Traceback (most recent call last)",
      "\u001b[1;32m<ipython-input-9-1f876880e210>\u001b[0m in \u001b[0;36m<module>\u001b[1;34m\u001b[0m\n\u001b[0;32m      1\u001b[0m questions = [\n\u001b[1;32m----> 2\u001b[1;33m     \u001b[0mQuestion\u001b[0m\u001b[1;33m(\u001b[0m\u001b[0mquestion_prompts\u001b[0m\u001b[1;33m[\u001b[0m\u001b[1;36m0\u001b[0m\u001b[1;33m]\u001b[0m\u001b[1;33m,\u001b[0m \u001b[1;34m\"a\"\u001b[0m\u001b[1;33m)\u001b[0m\u001b[1;33m\u001b[0m\u001b[1;33m\u001b[0m\u001b[0m\n\u001b[0m\u001b[0;32m      3\u001b[0m ]\n",
      "\u001b[1;31mNameError\u001b[0m: name 'Question' is not defined"
     ]
    }
   ],
   "source": [
    "questions = [\n",
    "    Question(question_prompts[0], \"a\")\n",
    "]"
   ]
  },
  {
   "cell_type": "code",
   "execution_count": null,
   "id": "9324a471",
   "metadata": {},
   "outputs": [],
   "source": []
  }
 ],
 "metadata": {
  "kernelspec": {
   "display_name": "Python 3",
   "language": "python",
   "name": "python3"
  },
  "language_info": {
   "codemirror_mode": {
    "name": "ipython",
    "version": 3
   },
   "file_extension": ".py",
   "mimetype": "text/x-python",
   "name": "python",
   "nbconvert_exporter": "python",
   "pygments_lexer": "ipython3",
   "version": "3.8.5"
  }
 },
 "nbformat": 4,
 "nbformat_minor": 5
}
